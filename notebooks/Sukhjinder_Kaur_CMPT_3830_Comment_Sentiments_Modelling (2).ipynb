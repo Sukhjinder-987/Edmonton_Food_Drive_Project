{
  "cells": [
    {
      "cell_type": "markdown",
      "metadata": {
        "id": "wRlBaYWVFjr0"
      },
      "source": [
        "![image.png](data:image/png;base64,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)"
      ]
    },
    {
      "cell_type": "markdown",
      "metadata": {
        "id": "PUFgj44dgJsg"
      },
      "source": [
        "# Modelling"
      ]
    },
    {
      "cell_type": "markdown",
      "metadata": {
        "id": "3v8GGrxJgL7P"
      },
      "source": [
        "Predicting the **number of donation bags collected, Time spent and Comment Sentiments** is a regression problem, and there are several regression models you can use in addition to Linear Regression. Here are some commonly used regression models:\n",
        "\n",
        "Ridge Regression and Lasso Regression: These are extensions of Linear Regression that add regularization to the model to prevent overfitting. Ridge regression uses L2 regularization, and Lasso regression uses L1 regularization.\n",
        "\n",
        "Support Vector Regression (SVR): SVR is a regression technique that extends Support Vector Machines (SVM) to regression problems. It is particularly useful when dealing with non-linear relationships.\n",
        "\n",
        "ElasticNet Regression: ElasticNet combines L1 and L2 regularization, offering a balance between Ridge and Lasso regression. It can handle cases where some features are irrelevant or redundant.\n",
        "\n",
        "Polynomial Regression: Polynomial regression allows you to capture non-linear relationships by introducing polynomial features. It's suitable when the relationship between the input features and the target variable is curvilinear.\n",
        "\n",
        "Random Forest Regression: Random Forest can also be used for regression tasks. It combines multiple decision trees to provide robust predictions.\n",
        "\n",
        "Gradient Boosting Regressors: Algorithms like XGBoost, LightGBM, and CatBoost have regression variants. They are powerful and often provide state-of-the-art performance for regression tasks.\n",
        "\n",
        "K-Nearest Neighbors (KNN) Regression: KNN can be adapted for regression by predicting the target variable as the average or weighted average of the K nearest neighbors' target values.\n",
        "\n",
        "Neural Networks (Deep Learning): You can use deep learning models, such as feedforward neural networks, to perform regression tasks. Neural networks can capture complex relationships in the data.\n",
        "\n",
        "Gaussian Process Regression: Gaussian process regression is a probabilistic approach that models the target variable as a distribution, providing uncertainty estimates along with predictions.\n",
        "\n",
        "Decision Tree Regression: Decision trees can be used for regression as well as classification. They partition the data and predict the target variable as the average of the target values in each leaf node.\n",
        "\n",
        "Bayesian Regression: Bayesian regression models incorporate Bayesian techniques to estimate model parameters and provide uncertainty estimates in predictions."
      ]
    },
    {
      "cell_type": "markdown",
      "metadata": {
        "id": "jCHPe7PLbwNQ"
      },
      "source": [
        "# **Model 1: Donation Prediction**\n"
      ]
    },
    {
      "cell_type": "code",
      "execution_count": null,
      "metadata": {
        "id": "l6kkFMfw58hv"
      },
      "outputs": [],
      "source": [
        "# Importing the Libraries\n",
        "import numpy as np\n",
        "import pandas as pd\n",
        "import matplotlib.pyplot as plt\n",
        "import seaborn as sns\n",
        "from sklearn.preprocessing import LabelEncoder\n",
        "from sklearn.model_selection import train_test_split\n",
        "from sklearn.linear_model import LinearRegression\n",
        "from sklearn.metrics import mean_squared_error"
      ]
    },
    {
      "cell_type": "code",
      "execution_count": null,
      "metadata": {
        "colab": {
          "base_uri": "https://localhost:8080/",
          "height": 310
        },
        "id": "wvmlPHqq6GiF",
        "outputId": "5452e7b3-a1c9-42bf-9fbc-d567ac529431"
      },
      "outputs": [],
      "source": [
        "# Loading the dataset for the year 2023\n",
        "data = pd.read_csv('Cleaned_Proposed_Data_Collection.csv')\n",
        "data.head()"
      ]
    },
    {
      "cell_type": "code",
      "execution_count": null,
      "metadata": {
        "colab": {
          "base_uri": "https://localhost:8080/"
        },
        "id": "Pl-YVRauxr-Z",
        "outputId": "ea53e63b-b9a5-4bd1-85ae-2fcd94dcf413"
      },
      "outputs": [],
      "source": [
        "# Checking the information regarding the data\n",
        "data.info()"
      ]
    },
    {
      "cell_type": "code",
      "execution_count": null,
      "metadata": {
        "colab": {
          "base_uri": "https://localhost:8080/",
          "height": 362
        },
        "id": "15R9vmTi6QTj",
        "outputId": "e4e8abbe-aa8b-483d-cb14-e466fdb2fc65"
      },
      "outputs": [],
      "source": [
        "# Loading the dataset for the year 2024\n",
        "data_1 = pd.read_csv('Cleaned_food_drive_data.csv')\n",
        "data_1.head()"
      ]
    },
    {
      "cell_type": "code",
      "execution_count": null,
      "metadata": {
        "colab": {
          "base_uri": "https://localhost:8080/"
        },
        "id": "LDdiAn3m8kT-",
        "outputId": "49921ff1-e92d-42c2-f4ac-cd5deb2d9482"
      },
      "outputs": [],
      "source": [
        "# Checking the information regarding the data\n",
        "data_1.info()"
      ]
    },
    {
      "cell_type": "code",
      "execution_count": null,
      "metadata": {
        "id": "OKmwwDy0bHMa"
      },
      "outputs": [],
      "source": [
        "# Create a feature matrix X and target variable y\n",
        "X = data[['Completed More Than One Route', 'Routes Completed', 'Time Spent', '# of Adult Volunteers', 'Doors in Route', '# of Youth Volunteers', 'Donation Bags Collected']]\n",
        "y = data_1['Donation Bags Collected for the year 2024']"
      ]
    },
    {
      "cell_type": "code",
      "execution_count": null,
      "metadata": {
        "id": "C3JtyZKNczTO"
      },
      "outputs": [],
      "source": [
        "# Split the data into training and testing sets\n",
        "X_train, X_test, y_train, y_test = train_test_split(X, y, test_size=0.2, random_state=42)"
      ]
    },
    {
      "cell_type": "code",
      "execution_count": null,
      "metadata": {
        "id": "RzlEf_Zg8Nzl"
      },
      "outputs": [],
      "source": [
        "# Converting the Categorical data into numerical data (\"Yes\": 1, \"No\": 0)\n",
        "le = LabelEncoder()\n",
        "X_train['Completed More Than One Route'] = le.fit_transform(X_train['Completed More Than One Route'])\n",
        "X_test['Completed More Than One Route'] = le.transform(X_test['Completed More Than One Route'])"
      ]
    },
    {
      "cell_type": "code",
      "execution_count": null,
      "metadata": {
        "colab": {
          "base_uri": "https://localhost:8080/",
          "height": 80
        },
        "id": "FZNqK0FQc2ak",
        "outputId": "0f919036-8b30-45b6-bf32-7fe6f1759b8e"
      },
      "outputs": [],
      "source": [
        "# Fit a regression model to predict the number of donation bags\n",
        "model = LinearRegression()\n",
        "model.fit(X_train, y_train)"
      ]
    },
    {
      "cell_type": "code",
      "execution_count": null,
      "metadata": {
        "colab": {
          "base_uri": "https://localhost:8080/"
        },
        "id": "MK8QgA63c7zr",
        "outputId": "f22830ef-3558-46ae-c2e3-93389983916f"
      },
      "outputs": [],
      "source": [
        "# Predict donation bags on the test set\n",
        "y_pred = model.predict(X_test)\n",
        "y_pred"
      ]
    },
    {
      "cell_type": "code",
      "execution_count": null,
      "metadata": {
        "colab": {
          "base_uri": "https://localhost:8080/"
        },
        "id": "IT-TLTrzc9zL",
        "outputId": "09598b5f-04bf-4690-8cf4-a7eb4a70a4e6"
      },
      "outputs": [],
      "source": [
        "# Evaluate the model\n",
        "mse = mean_squared_error(y_test, y_pred)\n",
        "print(f\"Mean Squared Error: {mse}\")"
      ]
    },
    {
      "cell_type": "markdown",
      "metadata": {
        "id": "vjVmA0zif7hE"
      },
      "source": [
        "# **Compare with other Regressor Models**"
      ]
    },
    {
      "cell_type": "code",
      "execution_count": null,
      "metadata": {
        "id": "PfNy4XwIgZVy"
      },
      "outputs": [],
      "source": [
        "#Importing the Libraries for the various models\n",
        "from sklearn.preprocessing import StandardScaler\n",
        "from sklearn.tree import DecisionTreeRegressor\n",
        "from sklearn.neighbors import KNeighborsRegressor\n",
        "from sklearn.ensemble import RandomForestRegressor, GradientBoostingRegressor\n",
        "from sklearn.metrics import mean_squared_error, r2_score"
      ]
    },
    {
      "cell_type": "code",
      "execution_count": null,
      "metadata": {
        "id": "57vI7Iv0gdYV"
      },
      "outputs": [],
      "source": [
        "# Standardize features (required for KNN)\n",
        "scaler = StandardScaler()\n",
        "X_train = scaler.fit_transform(X_train)\n",
        "X_test = scaler.transform(X_test)"
      ]
    },
    {
      "cell_type": "code",
      "execution_count": null,
      "metadata": {
        "id": "w_zuepqogpqT"
      },
      "outputs": [],
      "source": [
        "# Implement Decision Tree Regression\n",
        "decision_tree = DecisionTreeRegressor(max_depth=5)  # Adjusting the maximum depth\n",
        "decision_tree.fit(X_train, y_train)\n",
        "y_pred_decision_tree = decision_tree.predict(X_test)\n",
        "\n",
        "# Implement K-Nearest Neighbors (KNN) Regression\n",
        "knn = KNeighborsRegressor(n_neighbors=5)  # Adjusting the number of neighbors\n",
        "knn.fit(X_train, y_train)\n",
        "y_pred_knn = knn.predict(X_test)\n",
        "\n",
        "# Implement Random Forest Regression\n",
        "random_forest = RandomForestRegressor(n_estimators=100)  # Adjusting the number of trees (n_estimators)\n",
        "random_forest.fit(X_train, y_train)\n",
        "y_pred_random_forest = random_forest.predict(X_test)\n",
        "\n",
        "# Implement Gradient Boosting Regression\n",
        "gradient_boosting = GradientBoostingRegressor(n_estimators=100, learning_rate=0.1)  # Adjusting hyperparameters\n",
        "gradient_boosting.fit(X_train, y_train)\n",
        "y_pred_gradient_boosting = gradient_boosting.predict(X_test)"
      ]
    },
    {
      "cell_type": "code",
      "execution_count": null,
      "metadata": {
        "id": "0BniglkZf57j"
      },
      "outputs": [],
      "source": [
        "# Evaluate the models\n",
        "def evaluate_model(y_true, y_pred, model_name):\n",
        "    mse = mean_squared_error(y_true, y_pred)\n",
        "    r2 = r2_score(y_true, y_pred)\n",
        "    print(f\"{model_name} - Mean Squared Error: {mse}\")\n",
        "    print(f\"{model_name} - R-squared (R²): {r2}\\n\")"
      ]
    },
    {
      "cell_type": "code",
      "execution_count": null,
      "metadata": {
        "colab": {
          "base_uri": "https://localhost:8080/"
        },
        "id": "HsbFcQdXgs5X",
        "outputId": "58fb7d4f-1e8a-4e04-d741-39e716609281"
      },
      "outputs": [],
      "source": [
        "# Calculating the mean-squared error and the R-squared value for the different models\n",
        "evaluate_model(y_test, y_pred_decision_tree, \"Decision Tree\")\n",
        "evaluate_model(y_test, y_pred_knn, \"K-Nearest Neighbors (KNN)\")\n",
        "evaluate_model(y_test, y_pred_random_forest, \"Random Forest\")\n",
        "evaluate_model(y_test, y_pred_gradient_boosting, \"Gradient Boosting\")"
      ]
    },
    {
      "cell_type": "markdown",
      "metadata": {
        "id": "PKK1tr--gu8W"
      },
      "source": [
        "**Which model performed best?**\n",
        "\n",
        "Answer: Random forest model performs the best among all models deployed."
      ]
    },
    {
      "cell_type": "markdown",
      "metadata": {
        "id": "__nWl5nbmR4y"
      },
      "source": [
        "# **Save the best performing model**"
      ]
    },
    {
      "cell_type": "code",
      "execution_count": null,
      "metadata": {
        "colab": {
          "base_uri": "https://localhost:8080/"
        },
        "id": "IGFPPWN7muD_",
        "outputId": "4ce80386-ddab-45a7-93a5-8a7d1929e1b5"
      },
      "outputs": [],
      "source": [
        "# Importing the joblib package\n",
        "!pip install joblib"
      ]
    },
    {
      "cell_type": "code",
      "execution_count": null,
      "metadata": {
        "colab": {
          "base_uri": "https://localhost:8080/"
        },
        "id": "OUpTaweAmU00",
        "outputId": "42dbafa1-860a-4487-dfa6-88473300254e"
      },
      "outputs": [],
      "source": [
        "import joblib\n",
        "\n",
        "# 'random_forest' is best trained Random Forest Regressor model\n",
        "model = random_forest # Replacing with actual model\n",
        "\n",
        "# Specify the file path to save the model\n",
        "model_filename = 'random_forest_regressor_model.pkl'\n",
        "\n",
        "# Save the model to a .pkl file\n",
        "joblib.dump(model, model_filename)\n"
      ]
    },
    {
      "cell_type": "markdown",
      "metadata": {
        "id": "5ZqeKRgRlJ9i"
      },
      "source": [
        "# **Determine Feature Imporance- Regression Models**"
      ]
    },
    {
      "cell_type": "code",
      "execution_count": null,
      "metadata": {
        "colab": {
          "base_uri": "https://localhost:8080/",
          "height": 564
        },
        "id": "VLU5H1LRlQRz",
        "outputId": "3d2dc516-0010-408d-812c-c1421077adcf"
      },
      "outputs": [],
      "source": [
        "# 'decision_tree' is trained Decision Tree Regressor model\n",
        "feature_importance = decision_tree.feature_importances_\n",
        "feature_names = X.columns\n",
        "\n",
        "# Creating a bar plot to visualize feature importance\n",
        "plt.figure(figsize=(10, 6))\n",
        "plt.barh(range(len(feature_importance)), feature_importance, align='center')\n",
        "plt.yticks(range(len(feature_importance)), feature_names)\n",
        "plt.xlabel('Feature Importance')\n",
        "plt.ylabel('Feature')\n",
        "plt.title('Decision Tree Regressor Feature Importance')\n",
        "plt.show()"
      ]
    },
    {
      "cell_type": "code",
      "execution_count": null,
      "metadata": {
        "colab": {
          "base_uri": "https://localhost:8080/",
          "height": 564
        },
        "id": "QZHd_qxvllAk",
        "outputId": "b358ed76-709d-476a-ab8e-58173e526262"
      },
      "outputs": [],
      "source": [
        "# 'random_forest' is trained Random Forest Regressor model\n",
        "feature_importance = random_forest.feature_importances_\n",
        "feature_names = X.columns\n",
        "\n",
        "# Creating a bar plot to visualize feature importance\n",
        "plt.figure(figsize=(10, 6))\n",
        "plt.barh(range(len(feature_importance)), feature_importance, align='center')\n",
        "plt.yticks(range(len(feature_importance)), feature_names)\n",
        "plt.xlabel('Feature Importance')\n",
        "plt.ylabel('Feature')\n",
        "plt.title('Random Forest Regressor Feature Importance')\n",
        "plt.show()\n"
      ]
    },
    {
      "cell_type": "code",
      "execution_count": null,
      "metadata": {
        "colab": {
          "base_uri": "https://localhost:8080/",
          "height": 564
        },
        "id": "eLSi-aORlrbD",
        "outputId": "fd84ec7b-afd9-4ee8-ded4-8d594290b0b4"
      },
      "outputs": [],
      "source": [
        "# 'gradient_boosting' is trained Gradient Boosting Regressor model\n",
        "feature_importance = gradient_boosting.feature_importances_\n",
        "feature_names = X.columns\n",
        "\n",
        "# Creating a bar plot to visualize feature importance\n",
        "plt.figure(figsize=(10, 6))\n",
        "plt.barh(range(len(feature_importance)), feature_importance, align='center')\n",
        "plt.yticks(range(len(feature_importance)), feature_names)\n",
        "plt.xlabel('Feature Importance')\n",
        "plt.ylabel('Feature')\n",
        "plt.title('Gradient Boosting Regressor Feature Importance')\n",
        "plt.show()\n"
      ]
    },
    {
      "cell_type": "markdown",
      "metadata": {
        "id": "I4C-SvHug4cb"
      },
      "source": [
        "# **Solution 2: Convert to a Classification Problem**"
      ]
    },
    {
      "cell_type": "markdown",
      "metadata": {
        "id": "9F5G1Shwg9hI"
      },
      "source": [
        "To do this we can set a threshold for the number of bags collected to determine whether a donation drive is considered successful or not. This threshold can be used to convert your regression task (predicting the number of bags collected) into a classification task (predicting whether the threshold was met or not)."
      ]
    },
    {
      "cell_type": "code",
      "execution_count": null,
      "metadata": {
        "id": "sr_ScL9XhI_b"
      },
      "outputs": [],
      "source": [
        "# Setting the threshold for the donation bags\n",
        "threshold = 25 # In this case the Threshold is 25 bags\n",
        "data_1['Success'] = (data_1['Donation Bags Collected for the year 2024'] >= threshold).astype(int)"
      ]
    },
    {
      "cell_type": "markdown",
      "metadata": {
        "id": "EZslIoVsmlTD"
      },
      "source": [
        "# **Check for Data imbalance**"
      ]
    },
    {
      "cell_type": "code",
      "execution_count": null,
      "metadata": {
        "id": "RYlCpoxmlRsi"
      },
      "outputs": [],
      "source": [
        "import matplotlib.pyplot as plt\n",
        "\n",
        "# Calculating value counts for the 'Success' column\n",
        "success_counts = data_1['Success'].value_counts()"
      ]
    },
    {
      "cell_type": "code",
      "execution_count": null,
      "metadata": {
        "colab": {
          "base_uri": "https://localhost:8080/",
          "height": 410
        },
        "id": "hiwUWzyflWEU",
        "outputId": "3bbd0753-94d0-45ca-90da-4b20c488260d"
      },
      "outputs": [],
      "source": [
        "# Plotting the bar plot\n",
        "plt.figure(figsize=(6, 4))\n",
        "success_counts.plot(kind='bar', color=['green', 'red'])\n",
        "plt.title('Success Class Distribution')\n",
        "plt.xlabel('Success (1) / Failure (0)')\n",
        "plt.ylabel('Count')\n",
        "plt.xticks(rotation=0)\n",
        "plt.show()"
      ]
    },
    {
      "cell_type": "code",
      "execution_count": null,
      "metadata": {
        "id": "HJGJ__9Lh8pb"
      },
      "outputs": [],
      "source": [
        "# Importing the libraries for the various models\n",
        "from sklearn.neighbors import KNeighborsClassifier\n",
        "from sklearn.tree import DecisionTreeClassifier\n",
        "from sklearn.ensemble import RandomForestClassifier\n",
        "from sklearn.metrics import accuracy_score, classification_report"
      ]
    },
    {
      "cell_type": "code",
      "execution_count": null,
      "metadata": {
        "id": "8ji3rhe_iEi-"
      },
      "outputs": [],
      "source": [
        "# Assigning the target variable in a column named 'Success' (1 for success, 0 for failure)\n",
        "X = data[['Completed More Than One Route','Routes Completed','Time Spent', '# of Adult Volunteers','Doors in Route', '# of Youth Volunteers', 'Time Spent', 'Donation Bags Collected']]\n",
        "y = data_1['Success']"
      ]
    },
    {
      "cell_type": "code",
      "execution_count": null,
      "metadata": {
        "id": "zSCFYIPBiICQ"
      },
      "outputs": [],
      "source": [
        "# Splitting the dataset into training and testing sets\n",
        "X_train, X_test, y_train, y_test = train_test_split(X, y, test_size=0.2, random_state=42)"
      ]
    },
    {
      "cell_type": "code",
      "execution_count": null,
      "metadata": {
        "id": "99ZFunqB9qnP"
      },
      "outputs": [],
      "source": [
        "# Converting the Categorical data into numerical data (\"Yes\": 1, \"No\": 0)\n",
        "le = LabelEncoder()\n",
        "X_train['Completed More Than One Route'] = le.fit_transform(X_train['Completed More Than One Route'])\n",
        "X_test['Completed More Than One Route'] = le.transform(X_test['Completed More Than One Route'])"
      ]
    },
    {
      "cell_type": "code",
      "execution_count": null,
      "metadata": {
        "id": "nU04JUvaiKdp"
      },
      "outputs": [],
      "source": [
        "# Standardize features (required for KNN)\n",
        "scaler = StandardScaler()\n",
        "X_train = scaler.fit_transform(X_train)\n",
        "X_test = scaler.transform(X_test)"
      ]
    },
    {
      "cell_type": "markdown",
      "metadata": {
        "id": "8PwXLSjWiMHS"
      },
      "source": [
        "# **Compare Models**"
      ]
    },
    {
      "cell_type": "code",
      "execution_count": null,
      "metadata": {
        "id": "ov3S5M0Xh2FB"
      },
      "outputs": [],
      "source": [
        "# Implement K-Nearest Neighbors (KNN)\n",
        "knn = KNeighborsClassifier(n_neighbors=5)  # Adjusting the number of neighbors\n",
        "knn.fit(X_train, y_train)\n",
        "y_pred_knn = knn.predict(X_test)\n",
        "\n",
        "# Implement Decision Trees\n",
        "decision_tree = DecisionTreeClassifier(max_depth=5)  # Adjusting the maximum depth\n",
        "decision_tree.fit(X_train, y_train)\n",
        "y_pred_decision_tree = decision_tree.predict(X_test)\n",
        "\n",
        "# Implement Random Forest\n",
        "random_forest = RandomForestClassifier(n_estimators=100)  # Adjusting the number of trees (n_estimators)\n",
        "random_forest.fit(X_train, y_train)\n",
        "y_pred_random_forest = random_forest.predict(X_test)"
      ]
    },
    {
      "cell_type": "code",
      "execution_count": null,
      "metadata": {
        "colab": {
          "base_uri": "https://localhost:8080/"
        },
        "id": "rBdaNvixiRCD",
        "outputId": "88089773-c30d-4667-ea7b-6c80fa1f19d6"
      },
      "outputs": [],
      "source": [
        "# Evaluate the models\n",
        "print(\"K-Nearest Neighbors (KNN) Accuracy:\", accuracy_score(y_test, y_pred_knn))\n",
        "print(\"Decision Tree Accuracy:\", accuracy_score(y_test, y_pred_decision_tree))\n",
        "print(\"Random Forest Accuracy:\", accuracy_score(y_test, y_pred_random_forest))"
      ]
    },
    {
      "cell_type": "code",
      "execution_count": null,
      "metadata": {
        "colab": {
          "base_uri": "https://localhost:8080/"
        },
        "id": "BeQbZqvhiTm7",
        "outputId": "b61de092-bc2e-49aa-d15c-36aa83de03ff"
      },
      "outputs": [],
      "source": [
        "# Printing evaluation metrics like precision, recall, and F1-score for KNN\n",
        "print(\"\\nClassification Report for KNN:\")\n",
        "print(classification_report(y_test, y_pred_knn))"
      ]
    },
    {
      "cell_type": "code",
      "execution_count": null,
      "metadata": {
        "colab": {
          "base_uri": "https://localhost:8080/"
        },
        "id": "DQZp-vQNiU7W",
        "outputId": "e1203191-f542-4755-fd3a-a946ba8ee8a8"
      },
      "outputs": [],
      "source": [
        "# Printing evaluation metrics like precision, recall, and F1-score for Decision Tree\n",
        "print(\"\\nClassification Report for Decision Tree:\")\n",
        "print(classification_report(y_test, y_pred_decision_tree))"
      ]
    },
    {
      "cell_type": "code",
      "execution_count": null,
      "metadata": {
        "colab": {
          "base_uri": "https://localhost:8080/"
        },
        "id": "UMnZnHiWiWmF",
        "outputId": "27f2dcd4-7864-494e-8232-5198edf07ba5"
      },
      "outputs": [],
      "source": [
        "# Printing evaluation metrics like precision, recall, and F1-score for Random Forest\n",
        "print(\"\\nClassification Report for Random Forest:\")\n",
        "print(classification_report(y_test, y_pred_random_forest))"
      ]
    },
    {
      "cell_type": "markdown",
      "metadata": {
        "id": "NtgQ9V8Zm09y"
      },
      "source": [
        "**Which model performed best?**\n",
        "\n",
        "Answer: Random forest model performs the best among all models."
      ]
    },
    {
      "cell_type": "markdown",
      "metadata": {
        "id": "lBgHU_CJm09y"
      },
      "source": [
        "# **Save the best performing model**"
      ]
    },
    {
      "cell_type": "code",
      "execution_count": null,
      "metadata": {
        "colab": {
          "base_uri": "https://localhost:8080/"
        },
        "id": "WTv49RhLoMDn",
        "outputId": "6a0fb16a-c89d-4cac-d7b2-55e3f7c1b72c"
      },
      "outputs": [],
      "source": [
        "# 'random_forest_classifier' is your best trained Random Forest Classifier model\n",
        "model = random_forest  # Replacing with actual model\n",
        "\n",
        "# Specify the file path to save the model\n",
        "model_filename = 'random_forest_classifier_model.pkl'\n",
        "\n",
        "# Save the model to a .pkl file\n",
        "joblib.dump(model, model_filename)"
      ]
    },
    {
      "cell_type": "markdown",
      "metadata": {
        "id": "hXpV5ksOkoJ2"
      },
      "source": [
        "# **Determine Feature Importance- Classification Models**"
      ]
    },
    {
      "cell_type": "markdown",
      "metadata": {
        "id": "m46UcZNfk5PH"
      },
      "source": [
        "Decision Tree"
      ]
    },
    {
      "cell_type": "code",
      "execution_count": null,
      "metadata": {
        "colab": {
          "base_uri": "https://localhost:8080/",
          "height": 564
        },
        "id": "s-J7_y8RksyC",
        "outputId": "60bea632-cc61-4eb8-b423-96c851331a0e"
      },
      "outputs": [],
      "source": [
        "#'decision_tree' is trained Decision Tree model\n",
        "feature_importance = decision_tree.feature_importances_\n",
        "feature_names = X.columns[:len(feature_importance)]\n",
        "\n",
        "# Creating a bar plot to visualize feature importance\n",
        "plt.figure(figsize=(10, 6))\n",
        "plt.barh(range(len(feature_importance)), feature_importance, align='center')\n",
        "plt.yticks(range(len(feature_importance)), feature_names)\n",
        "plt.xlabel('Feature Importance')\n",
        "plt.ylabel('Feature')\n",
        "plt.title('Decision Tree Feature Importance')\n",
        "plt.show()\n"
      ]
    },
    {
      "cell_type": "markdown",
      "metadata": {
        "id": "wdnoWqhRk69c"
      },
      "source": [
        "Random Forest"
      ]
    },
    {
      "cell_type": "code",
      "execution_count": null,
      "metadata": {
        "colab": {
          "base_uri": "https://localhost:8080/",
          "height": 564
        },
        "id": "YFXCL_86kztW",
        "outputId": "36c64e14-83b4-456c-c00d-b8e79b4b3785"
      },
      "outputs": [],
      "source": [
        "#'random_forest' is trained Random Forest model\n",
        "feature_importance = random_forest.feature_importances_\n",
        "feature_names = X.columns[:len(feature_importance)]\n",
        "\n",
        "# Creating a bar plot to visualize feature importance\n",
        "plt.figure(figsize=(10, 6))\n",
        "plt.barh(range(len(feature_importance)), feature_importance, align='center')\n",
        "plt.yticks(range(len(feature_importance)), feature_names)\n",
        "plt.xlabel('Feature Importance')\n",
        "plt.ylabel('Feature')\n",
        "plt.title('Random Forest Feature Importance')\n",
        "plt.show()\n"
      ]
    },
    {
      "cell_type": "markdown",
      "metadata": {
        "id": "nV7mQ6bLlAQQ"
      },
      "source": [
        "Gradient Boost"
      ]
    },
    {
      "cell_type": "code",
      "execution_count": null,
      "metadata": {
        "colab": {
          "base_uri": "https://localhost:8080/",
          "height": 564
        },
        "id": "YG3kIyX1k_TE",
        "outputId": "2c7c26ff-45c9-4a90-9a2f-9fa7317fb5ea"
      },
      "outputs": [],
      "source": [
        "#'gradient_boosting' is trained Gradient Boosting model\n",
        "feature_importance = gradient_boosting.feature_importances_\n",
        "feature_names = X.columns[:len(feature_importance)]\n",
        "\n",
        "# Creating a bar plot to visualize feature importance\n",
        "plt.figure(figsize=(10, 6))\n",
        "plt.barh(range(len(feature_importance)), feature_importance, align='center')\n",
        "plt.yticks(range(len(feature_importance)), feature_names)\n",
        "plt.xlabel('Feature Importance')\n",
        "plt.ylabel('Feature')\n",
        "plt.title('Gradient Boosting Feature Importance')\n",
        "plt.show()\n"
      ]
    },
    {
      "cell_type": "markdown",
      "metadata": {
        "id": "zNoibyXkhMb1"
      },
      "source": [
        "# **Model 2: Time Spent For Collecting Donation Bags**"
      ]
    },
    {
      "cell_type": "code",
      "execution_count": null,
      "metadata": {
        "colab": {
          "base_uri": "https://localhost:8080/",
          "height": 241
        },
        "id": "el19ytNEi-9N",
        "outputId": "b0a9e4ea-4fb6-46dc-db57-c0eb83ca7b1e"
      },
      "outputs": [],
      "source": [
        "# Counting the value of the time spent ranges in the data\n",
        "data_1['Time Spent Collecting Donations'].value_counts()"
      ]
    },
    {
      "cell_type": "code",
      "execution_count": null,
      "metadata": {
        "colab": {
          "base_uri": "https://localhost:8080/",
          "height": 458
        },
        "id": "1WkCUZUjGGbB",
        "outputId": "082b95b0-2500-4b91-8b46-4dcdb26eaafc"
      },
      "outputs": [],
      "source": [
        "# Mapping the categorical data into the numerical data for the year 2024\n",
        "data_1['Time Spent Collecting Donations'] = data_1['Time Spent Collecting Donations'].map({'30 - 60 Minutes':1,\n",
        "                                               '1 Hour - 1.5 Hours': 2,\n",
        "                                               '0 - 30 Minutes': 0,\n",
        "                                               '2+ Hours': 3})\n",
        "data_1['Time Spent Collecting Donations']"
      ]
    },
    {
      "cell_type": "code",
      "execution_count": null,
      "metadata": {
        "id": "sQdplVpv_Nxg"
      },
      "outputs": [],
      "source": [
        "# Creating a feature matrix X and target variable y\n",
        "X = data[['Ward/Branch', 'Completed More Than One Route', 'Completed More Than One Route', '# of Adult Volunteers','Doors in Route', '# of Youth Volunteers', 'Time Spent']]\n",
        "y = data_1['Time Spent Collecting Donations']"
      ]
    },
    {
      "cell_type": "code",
      "execution_count": null,
      "metadata": {
        "id": "WWojymdcBhn6"
      },
      "outputs": [],
      "source": [
        "# Splitting the data into training and testing sets\n",
        "X_train, X_test, y_train, y_test = train_test_split(X, y, test_size=0.2, random_state=42)"
      ]
    },
    {
      "cell_type": "code",
      "execution_count": null,
      "metadata": {
        "id": "kn67KnYIr-C8"
      },
      "outputs": [],
      "source": [
        "duplicate_columns = X_train.columns[X_train.columns.duplicated()]\n",
        "\n",
        "# Removing the Duplicate Columns, if there is any in the dataset\n",
        "if duplicate_columns.any():\n",
        "    X_train = X_train.loc[:, ~X_train.columns.duplicated()]\n",
        "    X_test = X_test.loc[:, ~X_test.columns.duplicated()]"
      ]
    },
    {
      "cell_type": "code",
      "execution_count": null,
      "metadata": {
        "colab": {
          "base_uri": "https://localhost:8080/",
          "height": 993
        },
        "id": "8lCxZPN4nzZy",
        "outputId": "bb165d93-a08c-4f30-ce4a-76a0bf9f3bf4"
      },
      "outputs": [],
      "source": [
        "# Counting the value in the data of every single ward\n",
        "X_train['Ward/Branch'].value_counts()"
      ]
    },
    {
      "cell_type": "code",
      "execution_count": null,
      "metadata": {
        "colab": {
          "base_uri": "https://localhost:8080/",
          "height": 310
        },
        "id": "Zrj0uU0wvfIy",
        "outputId": "e52212a2-2378-4818-85bc-8199af872dfb"
      },
      "outputs": [],
      "source": [
        "# Mapping the categorical data of every single ward into numerical data\n",
        "data['Ward/Branch'] = data['Ward/Branch'].map({'Silver Berry Ward': 0,\n",
        "                                               'Crawford Plains Ward': 1,\n",
        "                                               'Lee Ridge Ward': 2,\n",
        "                                               'Griesbach Ward': 3,\n",
        "                                               'Londonderry Ward':4,\n",
        "                                               'Ellerslie Ward':5,\n",
        "                                               'Blackmud Creek Ward':6,\n",
        "                                               'Clareview Ward':7,\n",
        "                                               'Rutherford Ward':8,\n",
        "                                               'Southgate Ward':9,\n",
        "                                               'Forest Heights Ward':10,\n",
        "                                               'Rabbit Hill Ward':11,\n",
        "                                               'Greenfield Ward':12,\n",
        "                                               'Terwillegar Park Ward':13,\n",
        "                                               'Namao Ward':14,\n",
        "                                               'Woodbend Ward':15,\n",
        "                                               'Connors Hill Ward':16,\n",
        "                                               'Stony Plain Ward':17,\n",
        "                                               'Strathcona Married Student Ward':18,\n",
        "                                               'Rio Vista Ward':19,\n",
        "                                               'Beaumont Ward':20,\n",
        "                                               'Wild Rose Ward':21,\n",
        "                                               'Drayton Valley Ward':22,\n",
        "                                               'Wainwright Branch':23,\n",
        "                                               'Lago Lindo Branch':24,\n",
        "                                               'Pioneer Ward':25})\n",
        "data['Ward/Branch'] = data['Ward/Branch']\n",
        "data.head()"
      ]
    },
    {
      "cell_type": "code",
      "execution_count": null,
      "metadata": {
        "id": "3lOZqzogvVkL"
      },
      "outputs": [],
      "source": [
        "# Changing the datatype of the Ward/Branch\n",
        "X_train['Ward/Branch'] = pd.to_numeric(X_train['Ward/Branch'], errors='coerce')\n",
        "X_test['Ward/Branch'] = pd.to_numeric(X_test['Ward/Branch'], errors='coerce')"
      ]
    },
    {
      "cell_type": "code",
      "execution_count": null,
      "metadata": {
        "id": "Mic916KosVT8"
      },
      "outputs": [],
      "source": [
        "# Training data to both learing the encoding and apply it.\n",
        "X_train['Ward/Branch'] = le.fit_transform(X_train['Ward/Branch'])\n",
        "# Transforming the test data to apply the same encoding, ensuring consistency between train and test sets.\n",
        "X_test['Ward/Branch'] = le.transform(X_test['Ward/Branch'])"
      ]
    },
    {
      "cell_type": "code",
      "execution_count": null,
      "metadata": {
        "id": "bVjoEXYQzTNF"
      },
      "outputs": [],
      "source": [
        "# Converting the Categorical data into numerical data (\"Yes\": 1, \"No\": 0)\n",
        "le = LabelEncoder()\n",
        "X_train['Completed More Than One Route'] = le.fit_transform(X_train['Completed More Than One Route'])\n",
        "X_test['Completed More Than One Route'] = le.transform(X_test['Completed More Than One Route'])"
      ]
    },
    {
      "cell_type": "code",
      "execution_count": null,
      "metadata": {
        "id": "ZFxZR24MFe84"
      },
      "outputs": [],
      "source": [
        "from sklearn.preprocessing import LabelEncoder\n",
        "import numpy as np\n",
        "\n",
        "# Creating a LabelEncoder instance\n",
        "le = LabelEncoder()\n",
        "\n",
        "# Fitting the encoder to the unique values in the 'Time Spent' column:\n",
        "times_spent = y_train.unique()  # Get unique values from the 'Time Spent' column\n",
        "le.fit(times_spent)\n",
        "\n",
        "# Transforming the 'Time Spent' column in y_train to numerical values\n",
        "y_train = le.transform(y_train)"
      ]
    },
    {
      "cell_type": "code",
      "execution_count": null,
      "metadata": {
        "colab": {
          "base_uri": "https://localhost:8080/",
          "height": 80
        },
        "id": "-MtBexaWCXsk",
        "outputId": "7ec3b8b4-6503-444b-d498-bf4fbfe35355"
      },
      "outputs": [],
      "source": [
        "# Fitting a regression model to predict the time spent for collecting the donation bags\n",
        "model = LinearRegression()\n",
        "model.fit(X_train, y_train)"
      ]
    },
    {
      "cell_type": "code",
      "execution_count": null,
      "metadata": {
        "colab": {
          "base_uri": "https://localhost:8080/"
        },
        "id": "BM1lqjCKCrD6",
        "outputId": "5e29ce9a-aa9c-40fb-8d99-312ab6ac63ca"
      },
      "outputs": [],
      "source": [
        "# Predicting time spent on the test set\n",
        "y_pred = model.predict(X_test)\n",
        "y_pred"
      ]
    },
    {
      "cell_type": "code",
      "execution_count": null,
      "metadata": {
        "colab": {
          "base_uri": "https://localhost:8080/"
        },
        "collapsed": true,
        "id": "ZekniXJ_iFe0",
        "outputId": "437d9c3c-2ff7-4d90-e549-27629c638be7"
      },
      "outputs": [],
      "source": [
        "# Creating a DataFrame to compare the actual and predicted values side by side for evaluation\n",
        "comparison_df = pd.DataFrame({'Actual': y_test, 'Predicted': y_pred})\n",
        "print(comparison_df)"
      ]
    },
    {
      "cell_type": "code",
      "execution_count": null,
      "metadata": {
        "colab": {
          "base_uri": "https://localhost:8080/"
        },
        "id": "nhBAA7IvC-7Q",
        "outputId": "242bc2a5-2af2-42f6-b462-cdca3993b755"
      },
      "outputs": [],
      "source": [
        "# Evaluate the model\n",
        "mse = mean_squared_error(y_test, y_pred)\n",
        "print(f\"Mean Squared Error: {mse}\")"
      ]
    },
    {
      "cell_type": "markdown",
      "metadata": {
        "id": "tbGeX_-JxFT4"
      },
      "source": [
        "# **Compare with other Regressor Models**"
      ]
    },
    {
      "cell_type": "code",
      "execution_count": null,
      "metadata": {
        "id": "ggcI2HN_DK2Z"
      },
      "outputs": [],
      "source": [
        "# Importing the libraries for the various models\n",
        "from sklearn.preprocessing import StandardScaler\n",
        "from sklearn.tree import DecisionTreeRegressor\n",
        "from sklearn.neighbors import KNeighborsRegressor\n",
        "from sklearn.ensemble import RandomForestRegressor, GradientBoostingRegressor\n",
        "from sklearn.metrics import mean_squared_error, r2_score"
      ]
    },
    {
      "cell_type": "code",
      "execution_count": null,
      "metadata": {
        "id": "dhzEANb3EUCk"
      },
      "outputs": [],
      "source": [
        "# Standardize features (required for KNN)\n",
        "scaler = StandardScaler()\n",
        "X_train = scaler.fit_transform(X_train)\n",
        "X_test = scaler.transform(X_test)"
      ]
    },
    {
      "cell_type": "code",
      "execution_count": null,
      "metadata": {
        "id": "9ngYEU4nFG3x"
      },
      "outputs": [],
      "source": [
        "# Implement Decision Tree Regression\n",
        "decision_tree = DecisionTreeRegressor(max_depth=5)  # Adjusting the maximum depth\n",
        "decision_tree.fit(X_train, y_train)\n",
        "y_pred_decision_tree = decision_tree.predict(X_test)\n",
        "\n",
        "# Implement K-Nearest Neighbors (KNN) Regression\n",
        "knn = KNeighborsRegressor(n_neighbors=5)  # Adjusting the number of neighbors\n",
        "knn.fit(X_train, y_train)\n",
        "y_pred_knn = knn.predict(X_test)\n",
        "\n",
        "# Implement Random Forest Regression\n",
        "random_forest = RandomForestRegressor(n_estimators=100)  # Adjusting the number of trees (n_estimators)\n",
        "random_forest.fit(X_train, y_train)\n",
        "y_pred_random_forest = random_forest.predict(X_test)\n",
        "\n",
        "# Implement Gradient Boosting Regression\n",
        "gradient_boosting = GradientBoostingRegressor(n_estimators=100, learning_rate=0.1)  # Adjusting hyperparameters\n",
        "gradient_boosting.fit(X_train, y_train)\n",
        "y_pred_gradient_boosting = gradient_boosting.predict(X_test)"
      ]
    },
    {
      "cell_type": "code",
      "execution_count": null,
      "metadata": {
        "id": "TwrZgpFnFOke"
      },
      "outputs": [],
      "source": [
        "# Evaluate the models\n",
        "def evaluate_model(y_true, y_pred, model_name):\n",
        "    mse = mean_squared_error(y_true, y_pred)\n",
        "    r2 = r2_score(y_true, y_pred)\n",
        "    print(f\"{model_name} - Mean Squared Error: {mse}\")\n",
        "    print(f\"{model_name} - R-squared (R²): {r2}\\n\")"
      ]
    },
    {
      "cell_type": "code",
      "execution_count": null,
      "metadata": {
        "colab": {
          "base_uri": "https://localhost:8080/"
        },
        "id": "xxuLAIl1FPq9",
        "outputId": "7b723c97-983f-4648-c484-39491847cc50"
      },
      "outputs": [],
      "source": [
        "# Calculating the mean-squared error and the R-squared value for the different models\n",
        "evaluate_model(y_test, y_pred_decision_tree, \"Decision Tree\")\n",
        "evaluate_model(y_test, y_pred_knn, \"K-Nearest Neighbors (KNN)\")\n",
        "evaluate_model(y_test, y_pred_random_forest, \"Random Forest\")\n",
        "evaluate_model(y_test, y_pred_gradient_boosting, \"Gradient Boosting\")"
      ]
    },
    {
      "cell_type": "markdown",
      "metadata": {
        "id": "S5pZAQQJxIWb"
      },
      "source": [
        "# **Save the best performing model**\n",
        "\n"
      ]
    },
    {
      "cell_type": "code",
      "execution_count": null,
      "metadata": {
        "colab": {
          "base_uri": "https://localhost:8080/"
        },
        "id": "DAaJ8MHQFYP8",
        "outputId": "bb979c53-b912-4f76-e5e6-08179ae075aa"
      },
      "outputs": [],
      "source": [
        "# Importing the joblib package\n",
        "!pip install joblib"
      ]
    },
    {
      "cell_type": "code",
      "execution_count": null,
      "metadata": {
        "colab": {
          "base_uri": "https://localhost:8080/"
        },
        "id": "VcvfVLe7aHh4",
        "outputId": "8565ede7-bf05-4de5-e2d5-4cc5c6d94ae5"
      },
      "outputs": [],
      "source": [
        "import joblib\n",
        "\n",
        "#'random_forest' is best trained Random Forest Regressor model\n",
        "model = random_forest # Replacing with actual model\n",
        "\n",
        "# Specify the file path to save the model\n",
        "model_filename = 'random_forest_regressor_model.pkl'\n",
        "\n",
        "# Save the model to a .pkl file\n",
        "joblib.dump(model, model_filename)\n"
      ]
    },
    {
      "cell_type": "markdown",
      "metadata": {
        "id": "Mdt4XA9ax1dD"
      },
      "source": [
        "# **Determine Feature Imporance- Regression Models**"
      ]
    },
    {
      "cell_type": "code",
      "execution_count": null,
      "metadata": {
        "colab": {
          "base_uri": "https://localhost:8080/",
          "height": 564
        },
        "id": "CLRYpPiLcbQ9",
        "outputId": "a6cff586-fa02-41ab-be2c-3494e9fc71ad"
      },
      "outputs": [],
      "source": [
        "#'decision_tree' is trained Decision Tree Regressor model\n",
        "feature_importance = decision_tree.feature_importances_\n",
        "feature_names = X.columns\n",
        "\n",
        "# Creating a bar plot to visualize feature importance\n",
        "plt.figure(figsize=(10, 6))\n",
        "plt.barh(range(len(feature_importance)), feature_importance, align='center')\n",
        "plt.yticks(range(len(feature_names)), feature_names)\n",
        "plt.xlabel('Feature Importance')\n",
        "plt.ylabel('Feature')\n",
        "plt.title('Decision Tree Regressor Feature Importance')\n",
        "plt.show()"
      ]
    },
    {
      "cell_type": "code",
      "execution_count": null,
      "metadata": {
        "colab": {
          "base_uri": "https://localhost:8080/",
          "height": 564
        },
        "id": "HBpS_0AhccTh",
        "outputId": "0105e075-da5d-4442-9bb2-f7ad3e3bf532"
      },
      "outputs": [],
      "source": [
        "#'random_forest' is trained Random Forest Regressor model\n",
        "feature_importance = random_forest.feature_importances_\n",
        "feature_names = X.columns\n",
        "\n",
        "# Creating a bar plot to visualize feature importance\n",
        "plt.figure(figsize=(10, 6))\n",
        "plt.barh(range(len(feature_importance)), feature_importance, align='center')\n",
        "plt.yticks(range(len(feature_names)), feature_names)\n",
        "plt.xlabel('Feature Importance')\n",
        "plt.ylabel('Feature')\n",
        "plt.title('Random Forest Regressor Feature Importance')\n",
        "plt.show()"
      ]
    },
    {
      "cell_type": "code",
      "execution_count": null,
      "metadata": {
        "colab": {
          "base_uri": "https://localhost:8080/",
          "height": 564
        },
        "id": "STyP5zu7vNtP",
        "outputId": "2eabf5f2-754e-41ce-f8b2-b64c103bd968"
      },
      "outputs": [],
      "source": [
        "#'gradient_boosting' is trained Gradient Boosting Regressor model\n",
        "feature_importance = gradient_boosting.feature_importances_\n",
        "feature_names = X.columns\n",
        "\n",
        "# Creating a bar plot to visualize feature importance\n",
        "plt.figure(figsize=(10, 6))\n",
        "plt.barh(range(len(feature_importance)), feature_importance, align='center')\n",
        "plt.yticks(range(len(feature_names)), feature_names)\n",
        "plt.xlabel('Feature Importance')\n",
        "plt.ylabel('Feature')\n",
        "plt.title('Gradient Boosting Regressor Feature Importance')\n",
        "plt.show()\n"
      ]
    },
    {
      "cell_type": "markdown",
      "metadata": {
        "id": "U09-800wx4_q"
      },
      "source": [
        "# **Solution 2: Convert to a Classification Problem**"
      ]
    },
    {
      "cell_type": "code",
      "execution_count": null,
      "metadata": {
        "id": "dOEo8UbVvSi1"
      },
      "outputs": [],
      "source": [
        "# Setting the threshold for the Time Spent\n",
        "threshold = 1.9\n",
        "data_1['Success'] = (data_1['Time Spent Collecting Donations'] >= threshold).astype(int)"
      ]
    },
    {
      "cell_type": "markdown",
      "metadata": {
        "id": "AId5v7We2Hsd"
      },
      "source": [
        "# **Check for Data imbalance**"
      ]
    },
    {
      "cell_type": "code",
      "execution_count": null,
      "metadata": {
        "id": "6uNULSIAvVFF"
      },
      "outputs": [],
      "source": [
        "import matplotlib.pyplot as plt\n",
        "\n",
        "# Calculating value counts for the 'Success' column\n",
        "success_counts = data_1['Success'].value_counts()"
      ]
    },
    {
      "cell_type": "code",
      "execution_count": null,
      "metadata": {
        "colab": {
          "base_uri": "https://localhost:8080/",
          "height": 410
        },
        "id": "W6ZK0aAJvZBS",
        "outputId": "397d3d99-2847-4599-f58d-1f76328d3ff0"
      },
      "outputs": [],
      "source": [
        "# Plotting the bar plot\n",
        "plt.figure(figsize=(6, 4))\n",
        "success_counts.plot(kind='bar', color=['green', 'red'])\n",
        "plt.title('Success Class Distribution')\n",
        "plt.xlabel('Success (1) / Failure (0)')\n",
        "plt.ylabel('Count')\n",
        "plt.xticks(rotation=0)\n",
        "plt.show()"
      ]
    },
    {
      "cell_type": "code",
      "execution_count": null,
      "metadata": {
        "colab": {
          "base_uri": "https://localhost:8080/"
        },
        "id": "p7E4Hamg3PNw",
        "outputId": "ba557d0e-b524-4dd0-ec5e-01be222be95b"
      },
      "outputs": [],
      "source": [
        "# Installing pandas and scikit-learn libraries\n",
        "!pip install pandas scikit-learn"
      ]
    },
    {
      "cell_type": "code",
      "execution_count": null,
      "metadata": {
        "id": "ENQBFHeGvbB2"
      },
      "outputs": [],
      "source": [
        "# Importing the libraries for the various models\n",
        "from sklearn.neighbors import KNeighborsClassifier\n",
        "from sklearn.tree import DecisionTreeClassifier\n",
        "from sklearn.ensemble import RandomForestClassifier\n",
        "from sklearn.metrics import accuracy_score, classification_report\n",
        "from sklearn.impute import SimpleImputer"
      ]
    },
    {
      "cell_type": "code",
      "execution_count": null,
      "metadata": {
        "id": "MUesbeJmvfQO"
      },
      "outputs": [],
      "source": [
        "# Assigning the target variable in a column named 'Success' (1 for success, 0 for failure)\n",
        "X = data[['Ward/Branch','Completed More Than One Route', '# of Adult Volunteers','Doors in Route', '# of Youth Volunteers', 'Time Spent']]\n",
        "y = data_1['Success']"
      ]
    },
    {
      "cell_type": "code",
      "execution_count": null,
      "metadata": {
        "id": "zeNdHR66UvWm"
      },
      "outputs": [],
      "source": [
        "# Splitting the dataset into training and testing sets\n",
        "X_train, X_test, y_train, y_test = train_test_split(X, y, test_size=0.2, random_state=42)\n",
        "\n",
        "# Converting 'Completed More Than One Route' to numerical data using Label Encoding for both training and testing sets\n",
        "le = LabelEncoder()\n",
        "X_train['Completed More Than One Route'] = le.fit_transform(X_train['Completed More Than One Route'])\n",
        "X_test['Completed More Than One Route'] = le.transform(X_test['Completed More Than One Route']) # Apply transform to X_test as well\n",
        "\n",
        "# Imputing the Mean\n",
        "imputer = SimpleImputer(strategy='mean')\n",
        "X_train = imputer.fit_transform(X_train)\n",
        "X_test = imputer.transform(X_test)\n",
        "\n",
        "\n",
        "# Standardize features (required for KNN)\n",
        "scaler = StandardScaler()\n",
        "X_train = scaler.fit_transform(X_train)\n",
        "X_test = scaler.transform(X_test)"
      ]
    },
    {
      "cell_type": "markdown",
      "metadata": {
        "id": "wp7LGRXT3ZUZ"
      },
      "source": [
        "# **Compare Models**"
      ]
    },
    {
      "cell_type": "code",
      "execution_count": null,
      "metadata": {
        "id": "ahdMSLBSF6ZK"
      },
      "outputs": [],
      "source": [
        "# Implement K-Nearest Neighbors (KNN)\n",
        "knn = KNeighborsClassifier(n_neighbors=5)  # Adjusting the number of neighbors\n",
        "knn.fit(X_train, y_train)\n",
        "y_pred_knn = knn.predict(X_test)\n",
        "\n",
        "# Implement Decision Trees\n",
        "decision_tree = DecisionTreeClassifier(max_depth=5)  # Adjusting the maximum depth\n",
        "decision_tree.fit(X_train, y_train)\n",
        "y_pred_decision_tree = decision_tree.predict(X_test)\n",
        "\n",
        "# Implement Random Forest\n",
        "random_forest = RandomForestClassifier(n_estimators=100)  # Adjusting the number of trees (n_estimators)\n",
        "random_forest.fit(X_train, y_train)\n",
        "y_pred_random_forest = random_forest.predict(X_test)"
      ]
    },
    {
      "cell_type": "code",
      "execution_count": null,
      "metadata": {
        "colab": {
          "base_uri": "https://localhost:8080/"
        },
        "id": "lZHcrEL8vnf4",
        "outputId": "26128cf3-cd26-4af6-9614-2097bf5d4821"
      },
      "outputs": [],
      "source": [
        "# Evaluate the models\n",
        "print(\"K-Nearest Neighbors (KNN) Accuracy:\", accuracy_score(y_test, y_pred_knn))\n",
        "print(\"Decision Tree Accuracy:\", accuracy_score(y_test, y_pred_decision_tree))\n",
        "print(\"Random Forest Accuracy:\", accuracy_score(y_test, y_pred_random_forest))"
      ]
    },
    {
      "cell_type": "code",
      "execution_count": null,
      "metadata": {
        "colab": {
          "base_uri": "https://localhost:8080/"
        },
        "id": "IcPvb_42Lh14",
        "outputId": "8db7fa15-38e1-4211-8a4e-5a0a3ac50385"
      },
      "outputs": [],
      "source": [
        "# Printing evaluation metrics like precision, recall, and F1-score for KNN\n",
        "print(\"\\nClassification Report for KNN:\")\n",
        "print(classification_report(y_test, y_pred_knn))"
      ]
    },
    {
      "cell_type": "code",
      "execution_count": null,
      "metadata": {
        "colab": {
          "base_uri": "https://localhost:8080/"
        },
        "id": "JD7_8eDDvs_n",
        "outputId": "39505de9-b8b5-48fa-f2b9-57f71fae1456"
      },
      "outputs": [],
      "source": [
        "# Printing evaluation metrics like precision, recall, and F1-score for Decision Tree\n",
        "print(\"\\nClassification Report for Decision Tree:\")\n",
        "print(classification_report(y_test, y_pred_decision_tree))"
      ]
    },
    {
      "cell_type": "code",
      "execution_count": null,
      "metadata": {
        "colab": {
          "base_uri": "https://localhost:8080/"
        },
        "id": "0EmBR2K4vvB3",
        "outputId": "26704ae6-8f52-4d2e-ac6c-76b37dae59eb"
      },
      "outputs": [],
      "source": [
        "# Printing evaluation metrics like precision, recall, and F1-score for Randon Forest\n",
        "print(\"\\nClassification Report for Random Forest:\")\n",
        "print(classification_report(y_test, y_pred_random_forest))"
      ]
    },
    {
      "cell_type": "markdown",
      "metadata": {
        "id": "zX5FrtuZGUcE"
      },
      "source": [
        "# **Save the best performing model**"
      ]
    },
    {
      "cell_type": "code",
      "execution_count": null,
      "metadata": {
        "colab": {
          "base_uri": "https://localhost:8080/"
        },
        "id": "Sozg_BYpv21j",
        "outputId": "baec114a-d3df-4b82-9458-67a9e58bf217"
      },
      "outputs": [],
      "source": [
        "#'random_forest_classifier' best trained Random Forest Classifier model\n",
        "model = random_forest  # Replacing with actual model\n",
        "\n",
        "# Specify the file path to save the model\n",
        "model_filename = 'random_forest_classifier_model.pkl'\n",
        "\n",
        "# Save the model to a .pkl file\n",
        "joblib.dump(model, model_filename)\n"
      ]
    },
    {
      "cell_type": "markdown",
      "metadata": {
        "id": "Uo5etojpGV9t"
      },
      "source": [
        "# **Determine Feature Importance- Classification Models**"
      ]
    },
    {
      "cell_type": "code",
      "execution_count": null,
      "metadata": {
        "colab": {
          "base_uri": "https://localhost:8080/",
          "height": 564
        },
        "id": "TVhmjsjlv6XS",
        "outputId": "80b5bd7e-1ef7-4c1c-c12c-fb0af18ae04f"
      },
      "outputs": [],
      "source": [
        "#'decision_tree' is trained Decision Tree model\n",
        "feature_importance = decision_tree.feature_importances_\n",
        "feature_names = X.columns\n",
        "\n",
        "# Creating a bar plot to visualize feature importance\n",
        "plt.figure(figsize=(10, 6))\n",
        "plt.barh(range(len(feature_importance)), feature_importance, align='center')\n",
        "plt.yticks(range(len(feature_names)), feature_names)\n",
        "plt.xlabel('Feature Importance')\n",
        "plt.ylabel('Feature')\n",
        "plt.title('Decision Tree Feature Importance')\n",
        "plt.show()"
      ]
    },
    {
      "cell_type": "code",
      "execution_count": null,
      "metadata": {
        "colab": {
          "base_uri": "https://localhost:8080/",
          "height": 564
        },
        "id": "T3m1hUsgv8bD",
        "outputId": "e94338ec-b207-4f8b-80de-bace31df6166"
      },
      "outputs": [],
      "source": [
        "#'random_forest' is trained Random Forest model\n",
        "feature_importance = random_forest.feature_importances_\n",
        "feature_names = X.columns\n",
        "\n",
        "# Creating a bar plot to visualize feature importance\n",
        "plt.figure(figsize=(10, 6))\n",
        "plt.barh(range(len(feature_importance)), feature_importance, align='center')\n",
        "plt.yticks(range(len(feature_names)), feature_names)\n",
        "plt.xlabel('Feature Importance')\n",
        "plt.ylabel('Feature')\n",
        "plt.title('Random Forest Feature Importance')\n",
        "plt.show()\n"
      ]
    },
    {
      "cell_type": "code",
      "execution_count": null,
      "metadata": {
        "colab": {
          "base_uri": "https://localhost:8080/",
          "height": 564
        },
        "id": "uyRyYgnbwAgm",
        "outputId": "4d74d8b5-25b7-45eb-b813-226493d35c13"
      },
      "outputs": [],
      "source": [
        "#'gradient_boosting' is trained Gradient Boosting model\n",
        "feature_importance = gradient_boosting.feature_importances_\n",
        "feature_names = X.columns\n",
        "\n",
        "# Creating a bar plot to visualize feature importance\n",
        "plt.figure(figsize=(10, 6))\n",
        "plt.barh(range(len(feature_importance)), feature_importance, align='center')\n",
        "plt.yticks(range(len(feature_names)), feature_names)\n",
        "plt.xlabel('Feature Importance')\n",
        "plt.ylabel('Feature')\n",
        "plt.title('Gradient Boosting Feature Importance')\n",
        "plt.show()\n"
      ]
    },
    {
      "cell_type": "markdown",
      "metadata": {
        "id": "JMczSG9uiqLV"
      },
      "source": [
        "# **Model 3: Comment Sentiments**"
      ]
    },
    {
      "cell_type": "code",
      "execution_count": null,
      "metadata": {
        "id": "ffYLepK3Hogo"
      },
      "outputs": [],
      "source": [
        "# Create a feature matrix X and target variable y\n",
        "X = data[['Ward/Branch', 'Completed More Than One Route', 'Routes Completed', '# of Adult Volunteers','Doors in Route', '# of Youth Volunteers', 'Comment Sentiments']]\n",
        "y = data_1['Comment Sentiments for year 2024']"
      ]
    },
    {
      "cell_type": "code",
      "execution_count": null,
      "metadata": {
        "id": "IkrRT-NcHt9H"
      },
      "outputs": [],
      "source": [
        "# Splitting the data into training and testing sets\n",
        "X_train, X_test, y_train, y_test = train_test_split(X, y, test_size=0.2, random_state=42)"
      ]
    },
    {
      "cell_type": "code",
      "execution_count": null,
      "metadata": {
        "id": "H-wSqapaHtwO"
      },
      "outputs": [],
      "source": [
        "# Converting 'Completed More Than One Route' to numerical data using Label Encoding for both training and testing sets\n",
        "le = LabelEncoder()\n",
        "X_train['Completed More Than One Route'] = le.fit_transform(X_train['Completed More Than One Route'])\n",
        "X_test['Completed More Than One Route'] = le.transform(X_test['Completed More Than One Route'])"
      ]
    },
    {
      "cell_type": "code",
      "execution_count": null,
      "metadata": {
        "id": "7rJSKmdwkFAN"
      },
      "outputs": [],
      "source": [
        "# Applying Label Encoding to categorical columns like 'Ward/Branch' and 'Comment Sentiments'\n",
        "for col in ['Ward/Branch', 'Comment Sentiments']:\n",
        "    X_train[col] = le.fit_transform(X_train[col])\n",
        "    X_test[col] = le.transform(X_test[col])"
      ]
    },
    {
      "cell_type": "code",
      "execution_count": null,
      "metadata": {
        "colab": {
          "base_uri": "https://localhost:8080/",
          "height": 210
        },
        "id": "EZgbKwwAp3Kc",
        "outputId": "7ee21a5e-2188-4413-eab9-2f82e69357da"
      },
      "outputs": [],
      "source": [
        "# Calculating the value in the data of Comment Sentiments\n",
        "data_1['Comment Sentiments for year 2024'].value_counts()"
      ]
    },
    {
      "cell_type": "code",
      "execution_count": null,
      "metadata": {
        "id": "-TJW8bK6jb-i"
      },
      "outputs": [],
      "source": [
        "# Mapping the categorical data of Comment Sentiments into numerical data\n",
        "data_1['Comment Sentiments for year 2024'] = data_1['Comment Sentiments for year 2024'].map({'Positive': 1, 'Negative': 0, 'Neutral': 2})"
      ]
    },
    {
      "cell_type": "code",
      "execution_count": null,
      "metadata": {
        "colab": {
          "base_uri": "https://localhost:8080/",
          "height": 80
        },
        "id": "yaV_6RNRkTK5",
        "outputId": "ecac0d66-3aa9-4d9a-e908-3f05657a8d50"
      },
      "outputs": [],
      "source": [
        "# Converting the target variable to numerical representation using Label Encoding.\n",
        "from sklearn.preprocessing import LabelEncoder\n",
        "\n",
        "# Using Label Encoding for both training and testing sets\n",
        "le = LabelEncoder()\n",
        "y_train = le.fit_transform(y_train)# Mapping the categorical data of Comment Sentiments into numerical data\n",
        "data_1['Comment Sentiments for year 2024'] = data_1['Comment Sentiments for year 2024'].map({'Positive': 1, 'Negative': 0, 'Neutral': 2})\n",
        "y_test = le.transform(y_test)\n",
        "\n",
        "# Fitting a regression model to predict comment sentiments\n",
        "model = LinearRegression()\n",
        "# Mapping the categorical data of Comment Sentiments into numerical data\n",
        "data_1['Comment Sentiments for year 2024'] = data_1['Comment Sentiments for year 2024'].map({'Positive': 1, 'Negative': 0, 'Neutral': 2})"
      ]
    },
    {
      "cell_type": "code",
      "execution_count": null,
      "metadata": {
        "colab": {
          "base_uri": "https://localhost:8080/"
        },
        "id": "36S23Q3HqRkL",
        "outputId": "34e3d306-5081-44d3-c826-b368a9359257"
      },
      "outputs": [],
      "source": [
        "# Predicting on the test set\n",
        "y_pred = model.predict(X_test)\n",
        "y_pred"
      ]
    },
    {
      "cell_type": "code",
      "execution_count": null,
      "metadata": {
        "colab": {
          "base_uri": "https://localhost:8080/"
        },
        "id": "zBfnc4akjC4E",
        "outputId": "9586b033-fb2e-413a-e905-b5e6aa8f875c"
      },
      "outputs": [],
      "source": [
        "# Rounding off the predicted y values\n",
        "import numpy as np\n",
        "y_pred_rounded = np.round(y_pred)\n",
        "y_pred_rounded"
      ]
    },
    {
      "cell_type": "markdown",
      "metadata": {
        "id": "n3-9sg_oaFob"
      },
      "source": [
        "# **Actual vs Predicted Values**"
      ]
    },
    {
      "cell_type": "code",
      "execution_count": null,
      "metadata": {
        "colab": {
          "base_uri": "https://localhost:8080/",
          "height": 564
        },
        "id": "WrF7xWNYjCg4",
        "outputId": "b582f8d0-cd27-4025-c349-cd3a2c8748eb"
      },
      "outputs": [],
      "source": [
        "import matplotlib.pyplot as plt\n",
        "\n",
        "# Defining the y_test and y_pred_random_forest\n",
        "plt.figure(figsize=(10, 6))\n",
        "plt.plot(y_test, label='Actual Values')\n",
        "plt.plot(y_pred_random_forest, label='Predicted Values')\n",
        "plt.xlabel('Data Point Index')\n",
        "plt.ylabel('Value')\n",
        "plt.title('Actual vs. Predicted Values (Random Forest)')\n",
        "plt.legend()\n",
        "plt.grid(True)\n",
        "plt.show()"
      ]
    },
    {
      "cell_type": "code",
      "execution_count": null,
      "metadata": {
        "colab": {
          "base_uri": "https://localhost:8080/"
        },
        "id": "OzivPQJx9itL",
        "outputId": "05b77be5-0ac1-4a16-d9ef-8d7baed4b839"
      },
      "outputs": [],
      "source": [
        "# Creating a DataFrame to compare the actual and predicted values side by side for evaluation\n",
        "comparison_df_2 = pd.DataFrame({'Actual': y_test, 'Predicted': y_pred})\n",
        "print(comparison_df_2)"
      ]
    },
    {
      "cell_type": "code",
      "execution_count": null,
      "metadata": {
        "colab": {
          "base_uri": "https://localhost:8080/",
          "height": 115
        },
        "id": "CXc4aSqtQOVc",
        "outputId": "23dc54ed-0d55-45d9-ca0b-5d324511ab30"
      },
      "outputs": [],
      "source": [
        "# y_pred contains predicted values and y_test contains true values\n",
        "rounded_predictions = np.round(y_pred)\n",
        "value_counts = pd.Series(rounded_predictions).value_counts()\n",
        "value_counts"
      ]
    },
    {
      "cell_type": "code",
      "execution_count": null,
      "metadata": {
        "colab": {
          "base_uri": "https://localhost:8080/"
        },
        "id": "cLYdg2K9qlt5",
        "outputId": "9fd7a0cf-025c-4734-9c0c-adc17a2e5244"
      },
      "outputs": [],
      "source": [
        "# Evaluate the model\n",
        "mse = mean_squared_error(y_test, y_pred)\n",
        "print(f\"Mean Squared Error: {mse}\")"
      ]
    },
    {
      "cell_type": "markdown",
      "metadata": {
        "id": "90lWBQx3Mf7F"
      },
      "source": [
        "# **Compare with other Regressor Models**"
      ]
    },
    {
      "cell_type": "code",
      "execution_count": null,
      "metadata": {
        "id": "NAgaPULCqtxw"
      },
      "outputs": [],
      "source": [
        "# Importing the libraries for the various models\n",
        "from sklearn.preprocessing import StandardScaler\n",
        "from sklearn.tree import DecisionTreeRegressor\n",
        "from sklearn.neighbors import KNeighborsRegressor\n",
        "from sklearn.ensemble import RandomForestRegressor, GradientBoostingRegressor\n",
        "from sklearn.metrics import mean_squared_error, r2_score"
      ]
    },
    {
      "cell_type": "code",
      "execution_count": null,
      "metadata": {
        "id": "iOT-CCMnAarU"
      },
      "outputs": [],
      "source": [
        "# Standardize features (required for KNN)\n",
        "scaler = StandardScaler()\n",
        "X_train = scaler.fit_transform(X_train)\n",
        "X_test = scaler.transform(X_test)"
      ]
    },
    {
      "cell_type": "code",
      "execution_count": null,
      "metadata": {
        "id": "4w7plLDgAvpT"
      },
      "outputs": [],
      "source": [
        "# Evaluate the models\n",
        "def evaluate_model(y_true, y_pred, model_name):\n",
        "    mse = mean_squared_error(y_true, y_pred)\n",
        "    r2 = r2_score(y_true, y_pred)\n",
        "    print(f\"{model_name} - Mean Squared Error: {mse}\")\n",
        "    print(f\"{model_name} - R-squared (R²): {r2}\\n\")"
      ]
    },
    {
      "cell_type": "code",
      "execution_count": null,
      "metadata": {
        "colab": {
          "base_uri": "https://localhost:8080/"
        },
        "id": "BMjA6hTSAxv2",
        "outputId": "c3071cef-afa0-409c-e5d5-54a6bc34dd1b"
      },
      "outputs": [],
      "source": [
        "# Calculating the Mean-squared Error and R-squared value for the different models\n",
        "evaluate_model(y_test, y_pred_decision_tree, \"Decision Tree\")\n",
        "evaluate_model(y_test, y_pred_knn, \"K-Nearest Neighbors (KNN)\")\n",
        "evaluate_model(y_test, y_pred_random_forest, \"Random Forest\")\n",
        "evaluate_model(y_test, y_pred_gradient_boosting, \"Gradient Boosting\")"
      ]
    },
    {
      "cell_type": "markdown",
      "metadata": {
        "id": "AfjBlch7MjHn"
      },
      "source": [
        "# **Save the best performing model**"
      ]
    },
    {
      "cell_type": "code",
      "execution_count": null,
      "metadata": {
        "colab": {
          "base_uri": "https://localhost:8080/"
        },
        "id": "xe0Cu49oA8nl",
        "outputId": "392711be-cdb9-4e5a-c012-03a1b4b65a2c"
      },
      "outputs": [],
      "source": [
        "# Installing the joblib package\n",
        "!pip install joblib"
      ]
    },
    {
      "cell_type": "code",
      "execution_count": null,
      "metadata": {
        "colab": {
          "base_uri": "https://localhost:8080/"
        },
        "id": "_qeTLpGxBFkj",
        "outputId": "f323dc17-2b8a-4e3b-949b-a7b191f32330"
      },
      "outputs": [],
      "source": [
        "import joblib\n",
        "\n",
        "# 'random_forest' is best trained Random Forest Regressor model\n",
        "model = random_forest # Replacing with actual model\n",
        "\n",
        "# Specify the file path to save the model\n",
        "model_filename = 'random_forest_regressor_model.pkl'\n",
        "\n",
        "# Save the model to a .pkl file\n",
        "joblib.dump(model, model_filename)"
      ]
    },
    {
      "cell_type": "markdown",
      "metadata": {
        "id": "u-RPKdugaY3m"
      },
      "source": [
        "# **Determine Feature Imporance- Regression Models**"
      ]
    },
    {
      "cell_type": "code",
      "execution_count": null,
      "metadata": {
        "colab": {
          "base_uri": "https://localhost:8080/",
          "height": 564
        },
        "id": "7InF92bmBP0w",
        "outputId": "82736f9f-7b78-4ec5-b327-e5cbdf8fc481"
      },
      "outputs": [],
      "source": [
        "# 'decision_tree' is trained Decision Tree Regressor model\n",
        "feature_importance = decision_tree.feature_importances_\n",
        "feature_names = X.columns\n",
        "\n",
        "# Creating a bar plot to visualize feature importance\n",
        "plt.figure(figsize=(10, 6))\n",
        "plt.barh(range(len(feature_importance)), feature_importance, align='center')\n",
        "plt.yticks(range(len(feature_names)), feature_names)\n",
        "plt.xlabel('Feature Importance')\n",
        "plt.ylabel('Feature')\n",
        "plt.title('Decision Tree Regressor Feature Importance')\n",
        "plt.show()"
      ]
    },
    {
      "cell_type": "code",
      "execution_count": null,
      "metadata": {
        "colab": {
          "base_uri": "https://localhost:8080/",
          "height": 564
        },
        "id": "vOWW9ChmBWzk",
        "outputId": "5d0f3d13-4546-4baf-8d6b-5ac01b531dc2"
      },
      "outputs": [],
      "source": [
        "#'random_forest' is trained Random Forest Regressor model\n",
        "feature_importance = random_forest.feature_importances_\n",
        "feature_names = X.columns\n",
        "\n",
        "# Creating a bar plot to visualize feature importance\n",
        "plt.figure(figsize=(10, 6))\n",
        "plt.barh(range(len(feature_importance)), feature_importance, align='center')\n",
        "plt.yticks(range(len(feature_names)), feature_names)\n",
        "plt.xlabel('Feature Importance')\n",
        "plt.ylabel('Feature')\n",
        "plt.title('Random Forest Regressor Feature Importance')\n",
        "plt.show()"
      ]
    },
    {
      "cell_type": "code",
      "execution_count": null,
      "metadata": {
        "colab": {
          "base_uri": "https://localhost:8080/",
          "height": 564
        },
        "id": "yVJvr3YuBfrf",
        "outputId": "c0da42b0-941b-4ab5-c683-e90191e7db39"
      },
      "outputs": [],
      "source": [
        "#'gradient_boosting' is trained Gradient Boosting Regressor model\n",
        "feature_importance = gradient_boosting.feature_importances_\n",
        "feature_names = X.columns\n",
        "\n",
        "# Creating a bar plot to visualize feature importance\n",
        "plt.figure(figsize=(10, 6))\n",
        "plt.barh(range(len(feature_importance)), feature_importance, align='center')\n",
        "plt.yticks(range(len(feature_names)), feature_names)\n",
        "plt.xlabel('Feature Importance')\n",
        "plt.ylabel('Feature')\n",
        "plt.title('Gradient Boosting Regressor Feature Importance')\n",
        "plt.show()"
      ]
    },
    {
      "cell_type": "markdown",
      "metadata": {
        "id": "eW3UImJkapTA"
      },
      "source": [
        "# **Solution 2: Convert to a Classification Problem**"
      ]
    },
    {
      "cell_type": "code",
      "execution_count": null,
      "metadata": {
        "id": "HSbp72p_Bmzy"
      },
      "outputs": [],
      "source": [
        "# Setting the threshold for the Comment Sentiments\n",
        "threshold = 1.2\n",
        "data_1['Success'] = (data_1['Comment Sentiments for year 2024'] >= threshold).astype(int)"
      ]
    },
    {
      "cell_type": "markdown",
      "metadata": {
        "id": "scEae-g8ayUa"
      },
      "source": [
        "# **Check for Data imbalance**"
      ]
    },
    {
      "cell_type": "code",
      "execution_count": null,
      "metadata": {
        "id": "UkfGWOm7B83-"
      },
      "outputs": [],
      "source": [
        "import matplotlib.pyplot as plt\n",
        "\n",
        "# Calculating value counts for the 'Success' column\n",
        "success_counts = data_1['Success'].value_counts()"
      ]
    },
    {
      "cell_type": "code",
      "execution_count": null,
      "metadata": {
        "colab": {
          "base_uri": "https://localhost:8080/",
          "height": 410
        },
        "id": "2YBiNG4pB-Hq",
        "outputId": "7f63714b-e724-4e69-9ab2-a88ec36ea998"
      },
      "outputs": [],
      "source": [
        "# Plotting the bar plot\n",
        "plt.figure(figsize=(6, 4))\n",
        "success_counts.plot(kind='bar', color=['green', 'red'])\n",
        "plt.title('Success Class Distribution')\n",
        "plt.xlabel('Success (1) / Failure (0)')\n",
        "plt.ylabel('Count')\n",
        "plt.xticks(rotation=0)\n",
        "plt.show()"
      ]
    },
    {
      "cell_type": "code",
      "execution_count": null,
      "metadata": {
        "colab": {
          "base_uri": "https://localhost:8080/"
        },
        "id": "HykSOfxwCZZ0",
        "outputId": "698bfa61-f13f-4ba7-8f26-eb600090f9a1"
      },
      "outputs": [],
      "source": [
        "# Importing the pandas and scikit-learn libraries\n",
        "!pip install pandas scikit-learn"
      ]
    },
    {
      "cell_type": "code",
      "execution_count": null,
      "metadata": {
        "id": "J9SMAo-vDZg2"
      },
      "outputs": [],
      "source": [
        "#Importing the libraries for the various models\n",
        "from sklearn.neighbors import KNeighborsClassifier\n",
        "from sklearn.tree import DecisionTreeClassifier\n",
        "from sklearn.ensemble import RandomForestClassifier\n",
        "from sklearn.metrics import accuracy_score, classification_report\n",
        "from sklearn.impute import SimpleImputer"
      ]
    },
    {
      "cell_type": "code",
      "execution_count": null,
      "metadata": {
        "id": "g0laALE_DhOh"
      },
      "outputs": [],
      "source": [
        "# Assigning the target variable in a column named 'Success' (1 for success, 0 for failure)\n",
        "X = data[['Ward/Branch','Completed More Than One Route', '# of Adult Volunteers','Doors in Route', '# of Youth Volunteers', 'Time Spent', 'Comment Sentiments']]\n",
        "y = data_1['Success']"
      ]
    },
    {
      "cell_type": "code",
      "execution_count": null,
      "metadata": {
        "id": "loMRAtUVD7Kr"
      },
      "outputs": [],
      "source": [
        "# Splitting the dataset into training and testing sets\n",
        "X_train, X_test, y_train, y_test = train_test_split(X, y, test_size=0.2, random_state=42)\n",
        "\n",
        "# Convert 'Completed More Than One Route' to numerical using Label Encoding for both training and testing sets\n",
        "le = LabelEncoder()\n",
        "X_train['Completed More Than One Route'] = le.fit_transform(X_train['Completed More Than One Route'])\n",
        "X_test['Completed More Than One Route'] = le.transform(X_test['Completed More Than One Route']) # Applying transform to X_test\n",
        "\n",
        "X_train['Comment Sentiments'] = le.fit_transform(X_train['Comment Sentiments'])\n",
        "X_test['Comment Sentiments'] = le.transform(X_test['Comment Sentiments'])\n",
        "\n",
        "# Impute missing values using SimpleImputer before scaling\n",
        "imputer = SimpleImputer(strategy='mean')\n",
        "X_train = imputer.fit_transform(X_train)\n",
        "X_test = imputer.transform(X_test)\n",
        "\n",
        "# Standardize features (required for KNN)\n",
        "scaler = StandardScaler()\n",
        "X_train = scaler.fit_transform(X_train)\n",
        "X_test = scaler.transform(X_test)"
      ]
    },
    {
      "cell_type": "markdown",
      "metadata": {
        "id": "p5Wyc64ucalE"
      },
      "source": [
        "# **Compare Models**"
      ]
    },
    {
      "cell_type": "code",
      "execution_count": null,
      "metadata": {
        "id": "fhj6W8H-ccq8"
      },
      "outputs": [],
      "source": [
        "# Implement K-Nearest Neighbors (KNN)\n",
        "knn = KNeighborsClassifier(n_neighbors=5)  # Adjusting the number of neighbors\n",
        "knn.fit(X_train, y_train)\n",
        "y_pred_knn = knn.predict(X_test)\n",
        "\n",
        "# Implement Decision Trees\n",
        "decision_tree = DecisionTreeClassifier(max_depth=5)  # Adjusting the maximum depth\n",
        "decision_tree.fit(X_train, y_train)\n",
        "y_pred_decision_tree = decision_tree.predict(X_test)\n",
        "\n",
        "# Implement Random Forest\n",
        "random_forest = RandomForestClassifier(n_estimators=100)  # Adjusting the number of trees (n_estimators)\n",
        "random_forest.fit(X_train, y_train)\n",
        "y_pred_random_forest = random_forest.predict(X_test)"
      ]
    },
    {
      "cell_type": "code",
      "execution_count": null,
      "metadata": {
        "colab": {
          "base_uri": "https://localhost:8080/"
        },
        "id": "A3O53SOGD7on",
        "outputId": "c92ff94c-8534-41d6-c318-efe0b46fdf90"
      },
      "outputs": [],
      "source": [
        "# Evaluate the models\n",
        "print(\"K-Nearest Neighbors (KNN) Accuracy:\", accuracy_score(y_test, y_pred_knn))\n",
        "print(\"Decision Tree Accuracy:\", accuracy_score(y_test, y_pred_decision_tree))\n",
        "print(\"Random Forest Accuracy:\", accuracy_score(y_test, y_pred_random_forest))"
      ]
    },
    {
      "cell_type": "code",
      "execution_count": null,
      "metadata": {
        "colab": {
          "base_uri": "https://localhost:8080/"
        },
        "id": "hJ6ZdF1NLc7V",
        "outputId": "9bc97583-e2e3-4cb9-be15-df9e65040e89"
      },
      "outputs": [],
      "source": [
        "# Printing evaluation metrics like precision, recall, and F1-score for KNN\n",
        "print(\"\\nClassification Report for KNN:\")\n",
        "print(classification_report(y_test, y_pred_knn))"
      ]
    },
    {
      "cell_type": "code",
      "execution_count": null,
      "metadata": {
        "colab": {
          "base_uri": "https://localhost:8080/"
        },
        "id": "it_iZjeuD-BN",
        "outputId": "60babd84-3751-4242-8f89-715a3596ccfd"
      },
      "outputs": [],
      "source": [
        "# Printing evaluation metrics like precision, recall, and F1-score for Decision Tree\n",
        "print(\"\\nClassification Report for Decision Tree:\")\n",
        "print(classification_report(y_test, y_pred_decision_tree))"
      ]
    },
    {
      "cell_type": "code",
      "execution_count": null,
      "metadata": {
        "colab": {
          "base_uri": "https://localhost:8080/"
        },
        "id": "W0WK0l-DD92-",
        "outputId": "80575265-7528-461d-a5ee-a6971ae944d9"
      },
      "outputs": [],
      "source": [
        "# Printing evaluation metrics like precision, recall, and F1-score for Random Forest\n",
        "print(\"\\nClassification Report for Random Forest:\")\n",
        "print(classification_report(y_test, y_pred_random_forest))"
      ]
    },
    {
      "cell_type": "markdown",
      "metadata": {
        "id": "51VN0_59cEkK"
      },
      "source": [
        "# **Save the best performing model**"
      ]
    },
    {
      "cell_type": "code",
      "execution_count": null,
      "metadata": {
        "colab": {
          "base_uri": "https://localhost:8080/"
        },
        "id": "U93feC9pD8aD",
        "outputId": "35d63842-099c-444e-f7d7-c61cd4e98a31"
      },
      "outputs": [],
      "source": [
        "#'random_forest_classifier' is best trained Random Forest Classifier model\n",
        "model = random_forest  # Replacing with actual model\n",
        "\n",
        "# Specify the file path to save the model\n",
        "model_filename = 'random_forest_classifier_model.pkl'\n",
        "\n",
        "# Save the model to a .pkl file\n",
        "joblib.dump(model, model_filename)"
      ]
    },
    {
      "cell_type": "markdown",
      "metadata": {
        "id": "j3Yt6g2zcG0S"
      },
      "source": [
        "# **Determine Feature Importance- Classification Models**"
      ]
    },
    {
      "cell_type": "code",
      "execution_count": null,
      "metadata": {
        "colab": {
          "base_uri": "https://localhost:8080/",
          "height": 564
        },
        "id": "Ffle4maWLwBk",
        "outputId": "81bc96e3-1732-402a-ccfb-5df6b1eadb51"
      },
      "outputs": [],
      "source": [
        "# 'decision_tree' is trained Decision Tree model\n",
        "feature_importance = decision_tree.feature_importances_\n",
        "feature_names = X.columns\n",
        "\n",
        "# Creating a bar plot to visualize feature importance\n",
        "plt.figure(figsize=(10, 6))\n",
        "plt.barh(range(len(feature_importance)), feature_importance, align='center')\n",
        "plt.yticks(range(len(feature_names)), feature_names)\n",
        "plt.xlabel('Feature Importance')\n",
        "plt.ylabel('Feature')\n",
        "plt.title('Decision Tree Feature Importance')\n",
        "plt.show()"
      ]
    },
    {
      "cell_type": "code",
      "execution_count": null,
      "metadata": {
        "colab": {
          "base_uri": "https://localhost:8080/",
          "height": 564
        },
        "id": "uoefRvRkLyvh",
        "outputId": "f540f7d1-30b6-4e73-ade7-78e82abc28e1"
      },
      "outputs": [],
      "source": [
        "#'random_forest' is trained Random Forest model\n",
        "feature_importance = random_forest.feature_importances_\n",
        "feature_names = X.columns\n",
        "\n",
        "# Creating a bar plot to visualize feature importance\n",
        "plt.figure(figsize=(10, 6))\n",
        "plt.barh(range(len(feature_importance)), feature_importance, align='center')\n",
        "plt.yticks(range(len(feature_names)), feature_names)\n",
        "plt.xlabel('Feature Importance')\n",
        "plt.ylabel('Feature')\n",
        "plt.title('Random Forest Feature Importance')\n",
        "plt.show()"
      ]
    },
    {
      "cell_type": "code",
      "execution_count": null,
      "metadata": {
        "colab": {
          "base_uri": "https://localhost:8080/",
          "height": 564
        },
        "id": "PEFMEv3BMWLI",
        "outputId": "b67cb454-08dc-4037-aeb5-2c62e961cabd"
      },
      "outputs": [],
      "source": [
        "#'gradient_boosting' is trained Gradient Boosting model\n",
        "feature_importance = gradient_boosting.feature_importances_\n",
        "feature_names = X.columns\n",
        "\n",
        "# Creating a bar plot to visualize feature importance\n",
        "plt.figure(figsize=(10, 6))\n",
        "plt.barh(range(len(feature_importance)), feature_importance, align='center')\n",
        "plt.yticks(range(len(feature_names)), feature_names)\n",
        "plt.xlabel('Feature Importance')\n",
        "plt.ylabel('Feature')\n",
        "plt.title('Gradient Boosting Feature Importance')\n",
        "plt.show()"
      ]
    },
    {
      "cell_type": "markdown",
      "metadata": {
        "id": "CV_xLurAb67I"
      },
      "source": [
        "# **Hyperparameter Tuning**"
      ]
    },
    {
      "cell_type": "code",
      "execution_count": null,
      "metadata": {
        "colab": {
          "base_uri": "https://localhost:8080/"
        },
        "id": "n_AtBYL-tU9s",
        "outputId": "15dd63bf-e1b3-49b2-9473-82de7fe9178b"
      },
      "outputs": [],
      "source": [
        "# Installing the scikit-learn libraries\n",
        "!pip install scikit-learn\n",
        "# Importing the pandas library and libraries for the various models\n",
        "import pandas as pd\n",
        "from sklearn.impute import SimpleImputer\n",
        "from sklearn.model_selection import GridSearchCV\n",
        "from sklearn.neighbors import KNeighborsClassifier\n",
        "from sklearn.tree import DecisionTreeClassifier\n",
        "from sklearn.ensemble import RandomForestClassifier"
      ]
    },
    {
      "cell_type": "code",
      "execution_count": null,
      "metadata": {
        "colab": {
          "base_uri": "https://localhost:8080/",
          "height": 135
        },
        "id": "FyisWW1QmvjU",
        "outputId": "b5cff642-34cb-4a77-8ff7-d07bb9e13a4e"
      },
      "outputs": [],
      "source": [
        "# Creating an imputer object\n",
        "imputer = SimpleImputer(strategy='mean')\n",
        "\n",
        "# Fitting the imputer to training data and transform it\n",
        "X_train_imputed = imputer.fit_transform(X_train)\n",
        "\n",
        "# Defining knn_grid_search with KNeighborsClassifier and parameter grid\n",
        "knn = KNeighborsClassifier() # Initializing a KNeighborsClassifier\n",
        "param_grid = {'n_neighbors': [3, 5, 7, 9]}\n",
        "knn_grid_search = GridSearchCV(knn, param_grid, scoring='accuracy') # Creating GridSearchCV object\n",
        "\n",
        "# Defining decision_tree_grid_search with DecisionTreeClassifier and parameter grid\n",
        "decision_tree = DecisionTreeClassifier() # Initializing a DecisionTreeClassifier\n",
        "param_grid_dt = {'max_depth': [3, 5, 7, 9]}\n",
        "decision_tree_grid_search = GridSearchCV(decision_tree, param_grid_dt, scoring='accuracy') # Creating GridSearchCV object for Decision Tree\n",
        "\n",
        "# Defining random_forest_grid_search with RandomForestClassifier and parameter grid\n",
        "random_forest = RandomForestClassifier()  # Initializing a RandomForestClassifier\n",
        "param_grid_rf = {'n_estimators': [100, 200], 'max_depth': [None, 5, 10]}\n",
        "random_forest_grid_search = GridSearchCV(random_forest, param_grid_rf, scoring='accuracy')  # Creating GridSearchCV object for Random Forest\n",
        "\n",
        "\n",
        "# Using X_train_imputed for fitting the model\n",
        "knn_grid_search.fit(X_train_imputed, y_train)\n",
        "decision_tree_grid_search.fit(X_train_imputed, y_train)\n",
        "random_forest_grid_search.fit(X_train_imputed, y_train)"
      ]
    },
    {
      "cell_type": "code",
      "execution_count": null,
      "metadata": {
        "colab": {
          "base_uri": "https://localhost:8080/",
          "height": 135
        },
        "id": "O2thoJk3nUWe",
        "outputId": "4f89c5c1-26cc-473c-a381-4d89b8239554"
      },
      "outputs": [],
      "source": [
        "# Converting X_train to a Pandas DataFrame\n",
        "X_train = pd.DataFrame(X_train)\n",
        "\n",
        "# Using dropna()\n",
        "X_train_dropped = X_train.dropna()\n",
        "y_train_dropped = y_train[X_train.index.isin(X_train_dropped.index)]  # Keeping corresponding y values\n",
        "\n",
        "# Using X_train_dropped and y_train_dropped for fitting\n",
        "knn_grid_search.fit(X_train_dropped, y_train_dropped)\n",
        "decision_tree_grid_search.fit(X_train_dropped, y_train_dropped)\n",
        "random_forest_grid_search.fit(X_train_dropped, y_train_dropped)"
      ]
    },
    {
      "cell_type": "code",
      "execution_count": null,
      "metadata": {
        "colab": {
          "base_uri": "https://localhost:8080/"
        },
        "id": "4X5OQILsq2zf",
        "outputId": "6334b683-0564-443e-b3fa-78b6da4ceff7"
      },
      "outputs": [],
      "source": [
        "# Importing the libraries\n",
        "from sklearn.model_selection import GridSearchCV\n",
        "\n",
        "# Defining the parameter grid for RandomForestClassifier\n",
        "param_grid = {\n",
        "    'n_estimators': [50, 100, 200],  # Number of trees in the forest\n",
        "    'max_depth': [None, 10, 20],  # Maximum depth of the tree\n",
        "    'min_samples_split': [2, 5, 10],  # Minimum number of samples required to split an internal node\n",
        "    'min_samples_leaf': [1, 2, 4],  # Minimum number of samples required to be at a leaf node\n",
        "    'max_features': ['sqrt', 'log2'] # Number of features to consider when looking for best split\n",
        "}\n",
        "\n",
        "# Creating a RandomForestClassifier\n",
        "random_forest = RandomForestClassifier(random_state=42)\n",
        "\n",
        "# Creating a GridSearchCV object\n",
        "grid_search = GridSearchCV(estimator=random_forest, param_grid=param_grid, cv=5, scoring='accuracy', n_jobs=-1)\n",
        "\n",
        "# Fitting the grid search to the data\n",
        "grid_search.fit(X_train, y_train)\n",
        "\n",
        "# Getting the best hyperparameters and best score\n",
        "best_params = grid_search.best_params_\n",
        "best_score = grid_search.best_score_\n",
        "\n",
        "print(f\"Best Hyperparameters: {best_params}\")\n",
        "print(f\"Best Score (Accuracy): {best_score}\")\n",
        "\n",
        "# Using the best estimator to predict on the test set\n",
        "best_random_forest = grid_search.best_estimator_\n",
        "y_pred_best_random_forest = best_random_forest.predict(X_test)\n",
        "\n",
        "# Evaluate the best model\n",
        "print(f\"Accuracy of the best model: {accuracy_score(y_test, y_pred_best_random_forest)}\")\n",
        "print(f\"Classification Report of the best model:\\n{classification_report(y_test, y_pred_best_random_forest)}\")"
      ]
    },
    {
      "cell_type": "markdown",
      "metadata": {
        "id": "Z3nXfFQfbiBP"
      },
      "source": [
        "# **Correlation between the Donation Bags Collected and the Comment Sentiments for each Ward/Branch**"
      ]
    },
    {
      "cell_type": "code",
      "execution_count": null,
      "metadata": {
        "colab": {
          "base_uri": "https://localhost:8080/",
          "height": 562
        },
        "id": "U6gj31c8ucYb",
        "outputId": "8f72ea9e-9cf0-40ea-fcdf-d28d38a64c02"
      },
      "outputs": [],
      "source": [
        "# Importing the libraries\n",
        "import matplotlib.pyplot as plt\n",
        "import seaborn as sns\n",
        "\n",
        "# Calculating the correlation between donation bag success and comment sentiments\n",
        "correlation = data_1['Success'].corr(data_1['Comment Sentiments for year 2024'])\n",
        "print(f\"Correlation between Donation Bag Success and Comment Sentiments: {correlation}\")\n",
        "\n",
        "# Creating a heatmap\n",
        "plt.figure(figsize=(8, 6))\n",
        "sns.heatmap(data_1[['Success', 'Comment Sentiments for year 2024']].corr(), annot=True, cmap='coolwarm', fmt=\".2f\")\n",
        "plt.title('Correlation Heatmap: Donation Bag Success vs. Comment Sentiments')\n",
        "plt.show()"
      ]
    },
    {
      "cell_type": "code",
      "execution_count": null,
      "metadata": {
        "colab": {
          "base_uri": "https://localhost:8080/",
          "height": 859
        },
        "id": "aVe24ypmuEu_",
        "outputId": "5bf9aeb2-7052-4d3b-e32c-58d9f24d2169"
      },
      "outputs": [],
      "source": [
        "# Importing the libraries\n",
        "import matplotlib.pyplot as plt\n",
        "import seaborn as sns\n",
        "\n",
        "# Groupping by ward and sum donation bags\n",
        "ward_donations = data_1.groupby('COMBINED STAKES')['Donation Bags Collected for the year 2024'].sum()\n",
        "\n",
        "# Creating a DataFrame for the heatmap\n",
        "heatmap_data = pd.DataFrame({\n",
        "    'Ward': ward_donations.index,\n",
        "    'Donations': ward_donations.values,\n",
        "    'Sentiment': data_1.groupby('COMBINED STAKES')['Comment Sentiments for year 2024'].mean()  # Average comment sentiments\n",
        "})\n",
        "\n",
        "\n",
        "# Pivot the data for the heatmap\n",
        "heatmap_pivot = heatmap_data.pivot(index='Ward', columns='Sentiment', values='Donations')\n",
        "\n",
        "# Creating the heatmap\n",
        "plt.figure(figsize=(12, 8))  # Adjusting figure size as needed\n",
        "sns.heatmap(heatmap_pivot, annot=True, cmap='viridis', fmt=\".2f\") # annot=True shows values, adjust cmap and fmt as needed\n",
        "plt.title('Correlation Heatmap: Donation Bags Collected (2024) vs. Comment Sentiments by Ward')\n",
        "plt.xlabel('Average Comment Sentiment')\n",
        "plt.ylabel('Ward/Branch')\n",
        "plt.show()"
      ]
    }
  ],
  "metadata": {
    "colab": {
      "provenance": []
    },
    "kernelspec": {
      "display_name": ".venv",
      "language": "python",
      "name": "python3"
    },
    "language_info": {
      "codemirror_mode": {
        "name": "ipython",
        "version": 3
      },
      "file_extension": ".py",
      "mimetype": "text/x-python",
      "name": "python",
      "nbconvert_exporter": "python",
      "pygments_lexer": "ipython3",
      "version": "3.12.3"
    }
  },
  "nbformat": 4,
  "nbformat_minor": 0
}
